{
  "nbformat": 4,
  "nbformat_minor": 0,
  "metadata": {
    "colab": {
      "name": "Python Youtube Project part 2 SA",
      "provenance": []
    },
    "kernelspec": {
      "name": "python3",
      "display_name": "Python 3"
    },
    "language_info": {
      "name": "python"
    }
  },
  "cells": [
    {
      "cell_type": "code",
      "execution_count": null,
      "metadata": {
        "id": "t9MPJU2nM7_g"
      },
      "outputs": [],
      "source": [
        "import pandas as pd"
      ]
    },
    {
      "cell_type": "code",
      "source": [
        "youtube_final = pd.read_csv('/content/yt_data_usa_final_views.txt')\n",
        "youtube_view = pd.read_csv('/content/yt_data_usa_view_analysis.txt')"
      ],
      "metadata": {
        "id": "AyQ0ic34M-RC"
      },
      "execution_count": null,
      "outputs": []
    },
    {
      "cell_type": "code",
      "source": [
        "youtube_view.head(5)"
      ],
      "metadata": {
        "colab": {
          "base_uri": "https://localhost:8080/",
          "height": 287
        },
        "id": "wCflmy4YNGSf",
        "outputId": "84b955dc-d677-4dcd-9d34-f034a9ae9130"
      },
      "execution_count": null,
      "outputs": [
        {
          "output_type": "execute_result",
          "data": {
            "text/plain": [
              "   Unnamed: 0    Video_Category  view_count      Likes  Dislikes  \\\n",
              "0           0  Action/Adventure  4640224051  225480538   4582592   \n",
              "1           1   Anime/Animation    31468255    1409845     31845   \n",
              "2           2  Autos & Vehicles   316674983   12384770    210199   \n",
              "3           3            Comedy  2591868611  136972832   4395842   \n",
              "4           4       Documentary  1043465650   73596270   1115332   \n",
              "\n",
              "   Response_Percentage  LikesPercentage  DislikesPercentage  Comments  \\\n",
              "0             4.958018         4.859260            0.098758  19380763   \n",
              "1             4.581411         4.480213            0.101197    115372   \n",
              "2             3.977254         3.910877            0.066377   1041495   \n",
              "3             5.454315         5.284714            0.169601   9695124   \n",
              "4             7.159948         7.053061            0.106887   5268070   \n",
              "\n",
              "   CommentsPercentage  \n",
              "0            0.417669  \n",
              "1            0.366630  \n",
              "2            0.328885  \n",
              "3            0.374059  \n",
              "4            0.504863  "
            ],
            "text/html": [
              "\n",
              "  <div id=\"df-a72947e4-92be-4e74-80e4-2b31ee4342bd\">\n",
              "    <div class=\"colab-df-container\">\n",
              "      <div>\n",
              "<style scoped>\n",
              "    .dataframe tbody tr th:only-of-type {\n",
              "        vertical-align: middle;\n",
              "    }\n",
              "\n",
              "    .dataframe tbody tr th {\n",
              "        vertical-align: top;\n",
              "    }\n",
              "\n",
              "    .dataframe thead th {\n",
              "        text-align: right;\n",
              "    }\n",
              "</style>\n",
              "<table border=\"1\" class=\"dataframe\">\n",
              "  <thead>\n",
              "    <tr style=\"text-align: right;\">\n",
              "      <th></th>\n",
              "      <th>Unnamed: 0</th>\n",
              "      <th>Video_Category</th>\n",
              "      <th>view_count</th>\n",
              "      <th>Likes</th>\n",
              "      <th>Dislikes</th>\n",
              "      <th>Response_Percentage</th>\n",
              "      <th>LikesPercentage</th>\n",
              "      <th>DislikesPercentage</th>\n",
              "      <th>Comments</th>\n",
              "      <th>CommentsPercentage</th>\n",
              "    </tr>\n",
              "  </thead>\n",
              "  <tbody>\n",
              "    <tr>\n",
              "      <th>0</th>\n",
              "      <td>0</td>\n",
              "      <td>Action/Adventure</td>\n",
              "      <td>4640224051</td>\n",
              "      <td>225480538</td>\n",
              "      <td>4582592</td>\n",
              "      <td>4.958018</td>\n",
              "      <td>4.859260</td>\n",
              "      <td>0.098758</td>\n",
              "      <td>19380763</td>\n",
              "      <td>0.417669</td>\n",
              "    </tr>\n",
              "    <tr>\n",
              "      <th>1</th>\n",
              "      <td>1</td>\n",
              "      <td>Anime/Animation</td>\n",
              "      <td>31468255</td>\n",
              "      <td>1409845</td>\n",
              "      <td>31845</td>\n",
              "      <td>4.581411</td>\n",
              "      <td>4.480213</td>\n",
              "      <td>0.101197</td>\n",
              "      <td>115372</td>\n",
              "      <td>0.366630</td>\n",
              "    </tr>\n",
              "    <tr>\n",
              "      <th>2</th>\n",
              "      <td>2</td>\n",
              "      <td>Autos &amp; Vehicles</td>\n",
              "      <td>316674983</td>\n",
              "      <td>12384770</td>\n",
              "      <td>210199</td>\n",
              "      <td>3.977254</td>\n",
              "      <td>3.910877</td>\n",
              "      <td>0.066377</td>\n",
              "      <td>1041495</td>\n",
              "      <td>0.328885</td>\n",
              "    </tr>\n",
              "    <tr>\n",
              "      <th>3</th>\n",
              "      <td>3</td>\n",
              "      <td>Comedy</td>\n",
              "      <td>2591868611</td>\n",
              "      <td>136972832</td>\n",
              "      <td>4395842</td>\n",
              "      <td>5.454315</td>\n",
              "      <td>5.284714</td>\n",
              "      <td>0.169601</td>\n",
              "      <td>9695124</td>\n",
              "      <td>0.374059</td>\n",
              "    </tr>\n",
              "    <tr>\n",
              "      <th>4</th>\n",
              "      <td>4</td>\n",
              "      <td>Documentary</td>\n",
              "      <td>1043465650</td>\n",
              "      <td>73596270</td>\n",
              "      <td>1115332</td>\n",
              "      <td>7.159948</td>\n",
              "      <td>7.053061</td>\n",
              "      <td>0.106887</td>\n",
              "      <td>5268070</td>\n",
              "      <td>0.504863</td>\n",
              "    </tr>\n",
              "  </tbody>\n",
              "</table>\n",
              "</div>\n",
              "      <button class=\"colab-df-convert\" onclick=\"convertToInteractive('df-a72947e4-92be-4e74-80e4-2b31ee4342bd')\"\n",
              "              title=\"Convert this dataframe to an interactive table.\"\n",
              "              style=\"display:none;\">\n",
              "        \n",
              "  <svg xmlns=\"http://www.w3.org/2000/svg\" height=\"24px\"viewBox=\"0 0 24 24\"\n",
              "       width=\"24px\">\n",
              "    <path d=\"M0 0h24v24H0V0z\" fill=\"none\"/>\n",
              "    <path d=\"M18.56 5.44l.94 2.06.94-2.06 2.06-.94-2.06-.94-.94-2.06-.94 2.06-2.06.94zm-11 1L8.5 8.5l.94-2.06 2.06-.94-2.06-.94L8.5 2.5l-.94 2.06-2.06.94zm10 10l.94 2.06.94-2.06 2.06-.94-2.06-.94-.94-2.06-.94 2.06-2.06.94z\"/><path d=\"M17.41 7.96l-1.37-1.37c-.4-.4-.92-.59-1.43-.59-.52 0-1.04.2-1.43.59L10.3 9.45l-7.72 7.72c-.78.78-.78 2.05 0 2.83L4 21.41c.39.39.9.59 1.41.59.51 0 1.02-.2 1.41-.59l7.78-7.78 2.81-2.81c.8-.78.8-2.07 0-2.86zM5.41 20L4 18.59l7.72-7.72 1.47 1.35L5.41 20z\"/>\n",
              "  </svg>\n",
              "      </button>\n",
              "      \n",
              "  <style>\n",
              "    .colab-df-container {\n",
              "      display:flex;\n",
              "      flex-wrap:wrap;\n",
              "      gap: 12px;\n",
              "    }\n",
              "\n",
              "    .colab-df-convert {\n",
              "      background-color: #E8F0FE;\n",
              "      border: none;\n",
              "      border-radius: 50%;\n",
              "      cursor: pointer;\n",
              "      display: none;\n",
              "      fill: #1967D2;\n",
              "      height: 32px;\n",
              "      padding: 0 0 0 0;\n",
              "      width: 32px;\n",
              "    }\n",
              "\n",
              "    .colab-df-convert:hover {\n",
              "      background-color: #E2EBFA;\n",
              "      box-shadow: 0px 1px 2px rgba(60, 64, 67, 0.3), 0px 1px 3px 1px rgba(60, 64, 67, 0.15);\n",
              "      fill: #174EA6;\n",
              "    }\n",
              "\n",
              "    [theme=dark] .colab-df-convert {\n",
              "      background-color: #3B4455;\n",
              "      fill: #D2E3FC;\n",
              "    }\n",
              "\n",
              "    [theme=dark] .colab-df-convert:hover {\n",
              "      background-color: #434B5C;\n",
              "      box-shadow: 0px 1px 3px 1px rgba(0, 0, 0, 0.15);\n",
              "      filter: drop-shadow(0px 1px 2px rgba(0, 0, 0, 0.3));\n",
              "      fill: #FFFFFF;\n",
              "    }\n",
              "  </style>\n",
              "\n",
              "      <script>\n",
              "        const buttonEl =\n",
              "          document.querySelector('#df-a72947e4-92be-4e74-80e4-2b31ee4342bd button.colab-df-convert');\n",
              "        buttonEl.style.display =\n",
              "          google.colab.kernel.accessAllowed ? 'block' : 'none';\n",
              "\n",
              "        async function convertToInteractive(key) {\n",
              "          const element = document.querySelector('#df-a72947e4-92be-4e74-80e4-2b31ee4342bd');\n",
              "          const dataTable =\n",
              "            await google.colab.kernel.invokeFunction('convertToInteractive',\n",
              "                                                     [key], {});\n",
              "          if (!dataTable) return;\n",
              "\n",
              "          const docLinkHtml = 'Like what you see? Visit the ' +\n",
              "            '<a target=\"_blank\" href=https://colab.research.google.com/notebooks/data_table.ipynb>data table notebook</a>'\n",
              "            + ' to learn more about interactive tables.';\n",
              "          element.innerHTML = '';\n",
              "          dataTable['output_type'] = 'display_data';\n",
              "          await google.colab.output.renderOutput(dataTable, element);\n",
              "          const docLink = document.createElement('div');\n",
              "          docLink.innerHTML = docLinkHtml;\n",
              "          element.appendChild(docLink);\n",
              "        }\n",
              "      </script>\n",
              "    </div>\n",
              "  </div>\n",
              "  "
            ]
          },
          "metadata": {},
          "execution_count": 31
        }
      ]
    },
    {
      "cell_type": "code",
      "source": [
        "import pandas as pd\n",
        "import numpy as np\n",
        "import matplotlib.pyplot as plt\n",
        "import os\n",
        "import scipy.stats as sts\n",
        "from scipy.stats.stats import pearsonr\n",
        "from sklearn.linear_model import LinearRegression"
      ],
      "metadata": {
        "id": "y1FThOpXPrKC"
      },
      "execution_count": null,
      "outputs": []
    },
    {
      "cell_type": "code",
      "source": [
        "from matplotlib.pyplot import figure\n",
        "import matplotlib.pyplot as plt"
      ],
      "metadata": {
        "id": "p3EEep8kQC1m"
      },
      "execution_count": null,
      "outputs": []
    },
    {
      "cell_type": "code",
      "source": [
        "# LINEARITY Test"
      ],
      "metadata": {
        "id": "IQWpp5UY0I0H"
      },
      "execution_count": null,
      "outputs": []
    },
    {
      "cell_type": "code",
      "source": [
        "youtube_view.plot.scatter(x='LikesPercentage', y='DislikesPercentage')\n",
        "# No signs of proper linearity, but we can see when likes percentage decreases, dislike percentage decreases"
      ],
      "metadata": {
        "colab": {
          "base_uri": "https://localhost:8080/",
          "height": 297
        },
        "id": "yV1t_0cpNZsi",
        "outputId": "76007f15-8fff-48d4-9842-073ffc390d4a"
      },
      "execution_count": null,
      "outputs": [
        {
          "output_type": "execute_result",
          "data": {
            "text/plain": [
              "<matplotlib.axes._subplots.AxesSubplot at 0x7f4d33f4ee10>"
            ]
          },
          "metadata": {},
          "execution_count": 9
        },
        {
          "output_type": "display_data",
          "data": {
            "text/plain": [
              "<Figure size 432x288 with 1 Axes>"
            ],
            "image/png": "[encoded data removed]"
          },
          "metadata": {
            "needs_background": "light"
          }
        }
      ]
    },
    {
      "cell_type": "code",
      "source": [
        "youtube_view.Video_Category.unique()"
      ],
      "metadata": {
        "colab": {
          "base_uri": "https://localhost:8080/"
        },
        "id": "Gw-rlHEF2tIs",
        "outputId": "72ca931a-1933-4d4c-e2c7-ca3723f666e3"
      },
      "execution_count": null,
      "outputs": [
        {
          "output_type": "execute_result",
          "data": {
            "text/plain": [
              "array(['Action/Adventure', 'Anime/Animation', 'Autos & Vehicles',\n",
              "       'Comedy', 'Documentary', 'Drama', 'Education', 'Family',\n",
              "       'Film & Animation', 'Foreign', 'Horror', 'Nonprofits & Activism',\n",
              "       'People & Blogs', 'Sci-Fi/Fantasy', 'Thriller'], dtype=object)"
            ]
          },
          "metadata": {},
          "execution_count": 47
        }
      ]
    },
    {
      "cell_type": "code",
      "source": [
        "plt.plot(youtube_view.Video_Category, youtube_view.LikesPercentage)\n",
        "plt.xticks(rotation=60) "
      ],
      "metadata": {
        "colab": {
          "base_uri": "https://localhost:8080/",
          "height": 389
        },
        "id": "CfnSurG7RTSm",
        "outputId": "d748c65a-e950-4400-ac62-556b5a8a5493"
      },
      "execution_count": null,
      "outputs": [
        {
          "output_type": "execute_result",
          "data": {
            "text/plain": [
              "([0, 1, 2, 3, 4, 5, 6, 7, 8, 9, 10, 11, 12, 13, 14],\n",
              " <a list of 15 Text major ticklabel objects>)"
            ]
          },
          "metadata": {},
          "execution_count": 44
        },
        {
          "output_type": "display_data",
          "data": {
            "text/plain": [
              "<Figure size 432x288 with 1 Axes>"
            ],
            "image/png": "[encoded data removed]"
          },
          "metadata": {
            "needs_background": "light"
          }
        }
      ]
    },
    {
      "cell_type": "code",
      "source": [
        "youtube_view.plot.scatter(x='Video_Category', y='LikesPercentage')"
      ],
      "metadata": {
        "colab": {
          "base_uri": "https://localhost:8080/",
          "height": 298
        },
        "id": "3sI_LO01QHae",
        "outputId": "05cae25c-bb72-48cb-a6f6-ac2989f0f1e0"
      },
      "execution_count": null,
      "outputs": [
        {
          "output_type": "execute_result",
          "data": {
            "text/plain": [
              "<matplotlib.axes._subplots.AxesSubplot at 0x7f4d33784990>"
            ]
          },
          "metadata": {},
          "execution_count": 14
        },
        {
          "output_type": "display_data",
          "data": {
            "text/plain": [
              "<Figure size 432x288 with 1 Axes>"
            ],
            "image/png": "[encoded data removed]"
          },
          "metadata": {
            "needs_background": "light"
          }
        }
      ]
    },
    {
      "cell_type": "code",
      "source": [
        "# CORRELATION test"
      ],
      "metadata": {
        "id": "HgIVI3Ac3CX5"
      },
      "execution_count": null,
      "outputs": []
    },
    {
      "cell_type": "code",
      "source": [
        "youtube_view.corr()\n",
        "# We can see how each variables are positively correlated to each other"
      ],
      "metadata": {
        "colab": {
          "base_uri": "https://localhost:8080/",
          "height": 413
        },
        "id": "K-iHpdWmSkcu",
        "outputId": "634c06a6-4027-4ec2-e287-248c53a0d8b5"
      },
      "execution_count": null,
      "outputs": [
        {
          "output_type": "execute_result",
          "data": {
            "text/plain": [
              "                     Unnamed: 0  view_count     Likes  Dislikes  \\\n",
              "Unnamed: 0             1.000000    0.097464  0.087890  0.095082   \n",
              "view_count             0.097464    1.000000  0.987880  0.985641   \n",
              "Likes                  0.087890    0.987880  1.000000  0.991276   \n",
              "Dislikes               0.095082    0.985641  0.991276  1.000000   \n",
              "Response_Percentage   -0.147552    0.223679  0.329092  0.265730   \n",
              "LikesPercentage       -0.147285    0.221454  0.326272  0.260517   \n",
              "DislikesPercentage    -0.016714    0.095020  0.122428  0.211276   \n",
              "Comments               0.171524    0.956518  0.980339  0.972059   \n",
              "CommentsPercentage     0.051912    0.573665  0.670647  0.640826   \n",
              "\n",
              "                     Response_Percentage  LikesPercentage  DislikesPercentage  \\\n",
              "Unnamed: 0                     -0.147552        -0.147285           -0.016714   \n",
              "view_count                      0.223679         0.221454            0.095020   \n",
              "Likes                           0.329092         0.326272            0.122428   \n",
              "Dislikes                        0.265730         0.260517            0.211276   \n",
              "Response_Percentage             1.000000         0.999660            0.056865   \n",
              "LikesPercentage                 0.999660         1.000000            0.030818   \n",
              "DislikesPercentage              0.056865         0.030818            1.000000   \n",
              "Comments                        0.285990         0.283111            0.122807   \n",
              "CommentsPercentage              0.642110         0.634082            0.335579   \n",
              "\n",
              "                     Comments  CommentsPercentage  \n",
              "Unnamed: 0           0.171524            0.051912  \n",
              "view_count           0.956518            0.573665  \n",
              "Likes                0.980339            0.670647  \n",
              "Dislikes             0.972059            0.640826  \n",
              "Response_Percentage  0.285990            0.642110  \n",
              "LikesPercentage      0.283111            0.634082  \n",
              "DislikesPercentage   0.122807            0.335579  \n",
              "Comments             1.000000            0.720516  \n",
              "CommentsPercentage   0.720516            1.000000  "
            ],
            "text/html": [
              "\n",
              "  <div id=\"df-761c4884-6a03-48c9-98bc-88a08bad438b\">\n",
              "    <div class=\"colab-df-container\">\n",
              "      <div>\n",
              "<style scoped>\n",
              "    .dataframe tbody tr th:only-of-type {\n",
              "        vertical-align: middle;\n",
              "    }\n",
              "\n",
              "    .dataframe tbody tr th {\n",
              "        vertical-align: top;\n",
              "    }\n",
              "\n",
              "    .dataframe thead th {\n",
              "        text-align: right;\n",
              "    }\n",
              "</style>\n",
              "<table border=\"1\" class=\"dataframe\">\n",
              "  <thead>\n",
              "    <tr style=\"text-align: right;\">\n",
              "      <th></th>\n",
              "      <th>Unnamed: 0</th>\n",
              "      <th>view_count</th>\n",
              "      <th>Likes</th>\n",
              "      <th>Dislikes</th>\n",
              "      <th>Response_Percentage</th>\n",
              "      <th>LikesPercentage</th>\n",
              "      <th>DislikesPercentage</th>\n",
              "      <th>Comments</th>\n",
              "      <th>CommentsPercentage</th>\n",
              "    </tr>\n",
              "  </thead>\n",
              "  <tbody>\n",
              "    <tr>\n",
              "      <th>Unnamed: 0</th>\n",
              "      <td>1.000000</td>\n",
              "      <td>0.097464</td>\n",
              "      <td>0.087890</td>\n",
              "      <td>0.095082</td>\n",
              "      <td>-0.147552</td>\n",
              "      <td>-0.147285</td>\n",
              "      <td>-0.016714</td>\n",
              "      <td>0.171524</td>\n",
              "      <td>0.051912</td>\n",
              "    </tr>\n",
              "    <tr>\n",
              "      <th>view_count</th>\n",
              "      <td>0.097464</td>\n",
              "      <td>1.000000</td>\n",
              "      <td>0.987880</td>\n",
              "      <td>0.985641</td>\n",
              "      <td>0.223679</td>\n",
              "      <td>0.221454</td>\n",
              "      <td>0.095020</td>\n",
              "      <td>0.956518</td>\n",
              "      <td>0.573665</td>\n",
              "    </tr>\n",
              "    <tr>\n",
              "      <th>Likes</th>\n",
              "      <td>0.087890</td>\n",
              "      <td>0.987880</td>\n",
              "      <td>1.000000</td>\n",
              "      <td>0.991276</td>\n",
              "      <td>0.329092</td>\n",
              "      <td>0.326272</td>\n",
              "      <td>0.122428</td>\n",
              "      <td>0.980339</td>\n",
              "      <td>0.670647</td>\n",
              "    </tr>\n",
              "    <tr>\n",
              "      <th>Dislikes</th>\n",
              "      <td>0.095082</td>\n",
              "      <td>0.985641</td>\n",
              "      <td>0.991276</td>\n",
              "      <td>1.000000</td>\n",
              "      <td>0.265730</td>\n",
              "      <td>0.260517</td>\n",
              "      <td>0.211276</td>\n",
              "      <td>0.972059</td>\n",
              "      <td>0.640826</td>\n",
              "    </tr>\n",
              "    <tr>\n",
              "      <th>Response_Percentage</th>\n",
              "      <td>-0.147552</td>\n",
              "      <td>0.223679</td>\n",
              "      <td>0.329092</td>\n",
              "      <td>0.265730</td>\n",
              "      <td>1.000000</td>\n",
              "      <td>0.999660</td>\n",
              "      <td>0.056865</td>\n",
              "      <td>0.285990</td>\n",
              "      <td>0.642110</td>\n",
              "    </tr>\n",
              "    <tr>\n",
              "      <th>LikesPercentage</th>\n",
              "      <td>-0.147285</td>\n",
              "      <td>0.221454</td>\n",
              "      <td>0.326272</td>\n",
              "      <td>0.260517</td>\n",
              "      <td>0.999660</td>\n",
              "      <td>1.000000</td>\n",
              "      <td>0.030818</td>\n",
              "      <td>0.283111</td>\n",
              "      <td>0.634082</td>\n",
              "    </tr>\n",
              "    <tr>\n",
              "      <th>DislikesPercentage</th>\n",
              "      <td>-0.016714</td>\n",
              "      <td>0.095020</td>\n",
              "      <td>0.122428</td>\n",
              "      <td>0.211276</td>\n",
              "      <td>0.056865</td>\n",
              "      <td>0.030818</td>\n",
              "      <td>1.000000</td>\n",
              "      <td>0.122807</td>\n",
              "      <td>0.335579</td>\n",
              "    </tr>\n",
              "    <tr>\n",
              "      <th>Comments</th>\n",
              "      <td>0.171524</td>\n",
              "      <td>0.956518</td>\n",
              "      <td>0.980339</td>\n",
              "      <td>0.972059</td>\n",
              "      <td>0.285990</td>\n",
              "      <td>0.283111</td>\n",
              "      <td>0.122807</td>\n",
              "      <td>1.000000</td>\n",
              "      <td>0.720516</td>\n",
              "    </tr>\n",
              "    <tr>\n",
              "      <th>CommentsPercentage</th>\n",
              "      <td>0.051912</td>\n",
              "      <td>0.573665</td>\n",
              "      <td>0.670647</td>\n",
              "      <td>0.640826</td>\n",
              "      <td>0.642110</td>\n",
              "      <td>0.634082</td>\n",
              "      <td>0.335579</td>\n",
              "      <td>0.720516</td>\n",
              "      <td>1.000000</td>\n",
              "    </tr>\n",
              "  </tbody>\n",
              "</table>\n",
              "</div>\n",
              "      <button class=\"colab-df-convert\" onclick=\"convertToInteractive('df-761c4884-6a03-48c9-98bc-88a08bad438b')\"\n",
              "              title=\"Convert this dataframe to an interactive table.\"\n",
              "              style=\"display:none;\">\n",
              "        \n",
              "  <svg xmlns=\"http://www.w3.org/2000/svg\" height=\"24px\"viewBox=\"0 0 24 24\"\n",
              "       width=\"24px\">\n",
              "    <path d=\"M0 0h24v24H0V0z\" fill=\"none\"/>\n",
              "    <path d=\"M18.56 5.44l.94 2.06.94-2.06 2.06-.94-2.06-.94-.94-2.06-.94 2.06-2.06.94zm-11 1L8.5 8.5l.94-2.06 2.06-.94-2.06-.94L8.5 2.5l-.94 2.06-2.06.94zm10 10l.94 2.06.94-2.06 2.06-.94-2.06-.94-.94-2.06-.94 2.06-2.06.94z\"/><path d=\"M17.41 7.96l-1.37-1.37c-.4-.4-.92-.59-1.43-.59-.52 0-1.04.2-1.43.59L10.3 9.45l-7.72 7.72c-.78.78-.78 2.05 0 2.83L4 21.41c.39.39.9.59 1.41.59.51 0 1.02-.2 1.41-.59l7.78-7.78 2.81-2.81c.8-.78.8-2.07 0-2.86zM5.41 20L4 18.59l7.72-7.72 1.47 1.35L5.41 20z\"/>\n",
              "  </svg>\n",
              "      </button>\n",
              "      \n",
              "  <style>\n",
              "    .colab-df-container {\n",
              "      display:flex;\n",
              "      flex-wrap:wrap;\n",
              "      gap: 12px;\n",
              "    }\n",
              "\n",
              "    .colab-df-convert {\n",
              "      background-color: #E8F0FE;\n",
              "      border: none;\n",
              "      border-radius: 50%;\n",
              "      cursor: pointer;\n",
              "      display: none;\n",
              "      fill: #1967D2;\n",
              "      height: 32px;\n",
              "      padding: 0 0 0 0;\n",
              "      width: 32px;\n",
              "    }\n",
              "\n",
              "    .colab-df-convert:hover {\n",
              "      background-color: #E2EBFA;\n",
              "      box-shadow: 0px 1px 2px rgba(60, 64, 67, 0.3), 0px 1px 3px 1px rgba(60, 64, 67, 0.15);\n",
              "      fill: #174EA6;\n",
              "    }\n",
              "\n",
              "    [theme=dark] .colab-df-convert {\n",
              "      background-color: #3B4455;\n",
              "      fill: #D2E3FC;\n",
              "    }\n",
              "\n",
              "    [theme=dark] .colab-df-convert:hover {\n",
              "      background-color: #434B5C;\n",
              "      box-shadow: 0px 1px 3px 1px rgba(0, 0, 0, 0.15);\n",
              "      filter: drop-shadow(0px 1px 2px rgba(0, 0, 0, 0.3));\n",
              "      fill: #FFFFFF;\n",
              "    }\n",
              "  </style>\n",
              "\n",
              "      <script>\n",
              "        const buttonEl =\n",
              "          document.querySelector('#df-761c4884-6a03-48c9-98bc-88a08bad438b button.colab-df-convert');\n",
              "        buttonEl.style.display =\n",
              "          google.colab.kernel.accessAllowed ? 'block' : 'none';\n",
              "\n",
              "        async function convertToInteractive(key) {\n",
              "          const element = document.querySelector('#df-761c4884-6a03-48c9-98bc-88a08bad438b');\n",
              "          const dataTable =\n",
              "            await google.colab.kernel.invokeFunction('convertToInteractive',\n",
              "                                                     [key], {});\n",
              "          if (!dataTable) return;\n",
              "\n",
              "          const docLinkHtml = 'Like what you see? Visit the ' +\n",
              "            '<a target=\"_blank\" href=https://colab.research.google.com/notebooks/data_table.ipynb>data table notebook</a>'\n",
              "            + ' to learn more about interactive tables.';\n",
              "          element.innerHTML = '';\n",
              "          dataTable['output_type'] = 'display_data';\n",
              "          await google.colab.output.renderOutput(dataTable, element);\n",
              "          const docLink = document.createElement('div');\n",
              "          docLink.innerHTML = docLinkHtml;\n",
              "          element.appendChild(docLink);\n",
              "        }\n",
              "      </script>\n",
              "    </div>\n",
              "  </div>\n",
              "  "
            ]
          },
          "metadata": {},
          "execution_count": 34
        }
      ]
    },
    {
      "cell_type": "code",
      "source": [
        "import statsmodels.formula.api as smf"
      ],
      "metadata": {
        "colab": {
          "base_uri": "https://localhost:8080/"
        },
        "id": "CZDNuo_bTuqD",
        "outputId": "0c3e332b-5844-4784-d566-3febd581c38d"
      },
      "execution_count": null,
      "outputs": [
        {
          "output_type": "stream",
          "name": "stderr",
          "text": [
            "/usr/local/lib/python3.7/dist-packages/statsmodels/tools/_testing.py:19: FutureWarning: pandas.util.testing is deprecated. Use the functions in the public API at pandas.testing instead.\n",
            "  import pandas.util.testing as tm\n"
          ]
        }
      ]
    },
    {
      "cell_type": "code",
      "source": [
        "linreg = smf.ols('Response_Percentage ~ LikesPercentage + DislikesPercentage + CommentsPercentage', youtube_view).fit()\n",
        "print(linreg.summary())\n",
        "# We can see that p value of CommentsPercentage at 95% confidence interval is not significant, hence we will remove this from the model"
      ],
      "metadata": {
        "colab": {
          "base_uri": "https://localhost:8080/"
        },
        "id": "WOst3EtATQcI",
        "outputId": "09c7a2b3-e6af-42cd-debb-c7e53dc9bc00"
      },
      "execution_count": null,
      "outputs": [
        {
          "output_type": "stream",
          "name": "stdout",
          "text": [
            "                             OLS Regression Results                            \n",
            "===============================================================================\n",
            "Dep. Variable:     Response_Percentage   R-squared:                       1.000\n",
            "Model:                             OLS   Adj. R-squared:                  1.000\n",
            "Method:                  Least Squares   F-statistic:                 1.099e+30\n",
            "Date:                 Sat, 23 Apr 2022   Prob (F-statistic):          2.13e-162\n",
            "Time:                         21:23:32   Log-Likelihood:                 482.84\n",
            "No. Observations:                   15   AIC:                            -957.7\n",
            "Df Residuals:                       11   BIC:                            -954.8\n",
            "Df Model:                            3                                         \n",
            "Covariance Type:             nonrobust                                         \n",
            "======================================================================================\n",
            "                         coef    std err          t      P>|t|      [0.025      0.975]\n",
            "--------------------------------------------------------------------------------------\n",
            "Intercept           4.885e-15   3.43e-15      1.424      0.182   -2.67e-15    1.24e-14\n",
            "LikesPercentage        1.0000   7.36e-16   1.36e+15      0.000       1.000       1.000\n",
            "DislikesPercentage     1.0000   2.31e-14   4.32e+13      0.000       1.000       1.000\n",
            "CommentsPercentage  1.776e-15   9.65e-15      0.184      0.857   -1.95e-14     2.3e-14\n",
            "==============================================================================\n",
            "Omnibus:                        1.001   Durbin-Watson:                   1.313\n",
            "Prob(Omnibus):                  0.606   Jarque-Bera (JB):                0.307\n",
            "Skew:                          -0.350   Prob(JB):                        0.858\n",
            "Kurtosis:                       3.014   Cond. No.                         147.\n",
            "==============================================================================\n",
            "\n",
            "Warnings:\n",
            "[1] Standard Errors assume that the covariance matrix of the errors is correctly specified.\n"
          ]
        },
        {
          "output_type": "stream",
          "name": "stderr",
          "text": [
            "/usr/local/lib/python3.7/dist-packages/scipy/stats/stats.py:1535: UserWarning: kurtosistest only valid for n>=20 ... continuing anyway, n=15\n",
            "  \"anyway, n=%i\" % int(n))\n"
          ]
        }
      ]
    },
    {
      "cell_type": "code",
      "source": [
        "linreg1_1 = smf.ols('Response_Percentage ~ LikesPercentage + DislikesPercentage', youtube_view).fit()\n",
        "print(linreg1_1.summary())\n",
        "# Formula -> Response_Percentage = LikesPercentage + DislikesPercentage + 5.967e-15"
      ],
      "metadata": {
        "colab": {
          "base_uri": "https://localhost:8080/"
        },
        "id": "6o21UOiN9eoC",
        "outputId": "ee172404-130e-4015-b91b-585b4fe2b308"
      },
      "execution_count": null,
      "outputs": [
        {
          "output_type": "stream",
          "name": "stdout",
          "text": [
            "                             OLS Regression Results                            \n",
            "===============================================================================\n",
            "Dep. Variable:     Response_Percentage   R-squared:                       1.000\n",
            "Model:                             OLS   Adj. R-squared:                  1.000\n",
            "Method:                  Least Squares   F-statistic:                 8.694e+29\n",
            "Date:                 Sun, 24 Apr 2022   Prob (F-statistic):          1.08e-175\n",
            "Time:                         00:26:10   Log-Likelihood:                 477.38\n",
            "No. Observations:                   15   AIC:                            -948.8\n",
            "Df Residuals:                       12   BIC:                            -946.6\n",
            "Df Model:                            2                                         \n",
            "Covariance Type:             nonrobust                                         \n",
            "======================================================================================\n",
            "                         coef    std err          t      P>|t|      [0.025      0.975]\n",
            "--------------------------------------------------------------------------------------\n",
            "Intercept           5.967e-15   4.65e-15      1.282      0.224   -4.17e-15    1.61e-14\n",
            "LikesPercentage        1.0000    7.6e-16   1.32e+15      0.000       1.000       1.000\n",
            "DislikesPercentage     1.0000   2.91e-14   3.44e+13      0.000       1.000       1.000\n",
            "==============================================================================\n",
            "Omnibus:                        1.749   Durbin-Watson:                   0.068\n",
            "Prob(Omnibus):                  0.417   Jarque-Bera (JB):                0.872\n",
            "Skew:                           0.590   Prob(JB):                        0.647\n",
            "Kurtosis:                       2.934   Cond. No.                         132.\n",
            "==============================================================================\n",
            "\n",
            "Warnings:\n",
            "[1] Standard Errors assume that the covariance matrix of the errors is correctly specified.\n"
          ]
        },
        {
          "output_type": "stream",
          "name": "stderr",
          "text": [
            "/usr/local/lib/python3.7/dist-packages/scipy/stats/stats.py:1535: UserWarning: kurtosistest only valid for n>=20 ... continuing anyway, n=15\n",
            "  \"anyway, n=%i\" % int(n))\n"
          ]
        }
      ]
    },
    {
      "cell_type": "code",
      "source": [
        "linreg2 = smf.ols('view_count ~ Likes + Dislikes + Comments', youtube_view).fit()\n",
        "print(linreg2.summary())\n",
        "# We can see that the p value at 95% confidence interval is more than 0.05 for Dislikes and Comments, \n",
        "# hence it means these two variables can't decide whether the views will be more or not. Likes is a perfect variable to predict the number of views for a particular category"
      ],
      "metadata": {
        "colab": {
          "base_uri": "https://localhost:8080/"
        },
        "id": "9Wrx00bcTq8W",
        "outputId": "d545179a-f3a7-4213-a677-7ec84e8ec109"
      },
      "execution_count": null,
      "outputs": [
        {
          "output_type": "stream",
          "name": "stdout",
          "text": [
            "                            OLS Regression Results                            \n",
            "==============================================================================\n",
            "Dep. Variable:             view_count   R-squared:                       0.982\n",
            "Model:                            OLS   Adj. R-squared:                  0.977\n",
            "Method:                 Least Squares   F-statistic:                     199.7\n",
            "Date:                Sat, 23 Apr 2022   Prob (F-statistic):           7.16e-10\n",
            "Time:                        23:39:38   Log-Likelihood:                -319.92\n",
            "No. Observations:                  15   AIC:                             647.8\n",
            "Df Residuals:                      11   BIC:                             650.7\n",
            "Df Model:                           3                                         \n",
            "Covariance Type:            nonrobust                                         \n",
            "==============================================================================\n",
            "                 coef    std err          t      P>|t|      [0.025      0.975]\n",
            "------------------------------------------------------------------------------\n",
            "Intercept   1.675e+08    1.8e+08      0.932      0.371   -2.28e+08    5.63e+08\n",
            "Likes         16.4865      6.532      2.524      0.028       2.110      30.863\n",
            "Dislikes     315.4454    260.452      1.211      0.251    -257.805     888.696\n",
            "Comments     -47.5861     31.569     -1.507      0.160    -117.069      21.896\n",
            "==============================================================================\n",
            "Omnibus:                       14.496   Durbin-Watson:                   2.186\n",
            "Prob(Omnibus):                  0.001   Jarque-Bera (JB):               12.076\n",
            "Skew:                           1.465   Prob(JB):                      0.00239\n",
            "Kurtosis:                       6.278   Cond. No.                     2.95e+08\n",
            "==============================================================================\n",
            "\n",
            "Warnings:\n",
            "[1] Standard Errors assume that the covariance matrix of the errors is correctly specified.\n",
            "[2] The condition number is large, 2.95e+08. This might indicate that there are\n",
            "strong multicollinearity or other numerical problems.\n"
          ]
        },
        {
          "output_type": "stream",
          "name": "stderr",
          "text": [
            "/usr/local/lib/python3.7/dist-packages/scipy/stats/stats.py:1535: UserWarning: kurtosistest only valid for n>=20 ... continuing anyway, n=15\n",
            "  \"anyway, n=%i\" % int(n))\n"
          ]
        }
      ]
    },
    {
      "cell_type": "code",
      "source": [
        "linreg2_1 = smf.ols('view_count ~ Likes', youtube_view).fit()\n",
        "print(linreg2_1.summary())\n",
        "# Formula -> view_count = 17.6588*Likes + 3.309e+08 "
      ],
      "metadata": {
        "colab": {
          "base_uri": "https://localhost:8080/"
        },
        "id": "cKeq6VOdVavi",
        "outputId": "7d22b356-6f87-490e-bff9-c1f1d49a88b1"
      },
      "execution_count": null,
      "outputs": [
        {
          "output_type": "stream",
          "name": "stdout",
          "text": [
            "                            OLS Regression Results                            \n",
            "==============================================================================\n",
            "Dep. Variable:             view_count   R-squared:                       0.976\n",
            "Model:                            OLS   Adj. R-squared:                  0.974\n",
            "Method:                 Least Squares   F-statistic:                     526.6\n",
            "Date:                Sat, 23 Apr 2022   Prob (F-statistic):           6.66e-12\n",
            "Time:                        21:31:13   Log-Likelihood:                -322.10\n",
            "No. Observations:                  15   AIC:                             648.2\n",
            "Df Residuals:                      13   BIC:                             649.6\n",
            "Df Model:                           1                                         \n",
            "Covariance Type:            nonrobust                                         \n",
            "==============================================================================\n",
            "                 coef    std err          t      P>|t|      [0.025      0.975]\n",
            "------------------------------------------------------------------------------\n",
            "Intercept   3.309e+08   1.67e+08      1.976      0.070   -3.08e+07    6.93e+08\n",
            "Likes         17.6588      0.770     22.948      0.000      15.996      19.321\n",
            "==============================================================================\n",
            "Omnibus:                        8.870   Durbin-Watson:                   2.987\n",
            "Prob(Omnibus):                  0.012   Jarque-Bera (JB):                5.341\n",
            "Skew:                           1.345   Prob(JB):                       0.0692\n",
            "Kurtosis:                       4.144   Cond. No.                     2.56e+08\n",
            "==============================================================================\n",
            "\n",
            "Warnings:\n",
            "[1] Standard Errors assume that the covariance matrix of the errors is correctly specified.\n",
            "[2] The condition number is large, 2.56e+08. This might indicate that there are\n",
            "strong multicollinearity or other numerical problems.\n"
          ]
        },
        {
          "output_type": "stream",
          "name": "stderr",
          "text": [
            "/usr/local/lib/python3.7/dist-packages/scipy/stats/stats.py:1535: UserWarning: kurtosistest only valid for n>=20 ... continuing anyway, n=15\n",
            "  \"anyway, n=%i\" % int(n))\n"
          ]
        }
      ]
    },
    {
      "cell_type": "code",
      "source": [
        "youtube_final.head(3)"
      ],
      "metadata": {
        "colab": {
          "base_uri": "https://localhost:8080/",
          "height": 381
        },
        "id": "7MlBqxw_VgMV",
        "outputId": "e0c16487-b15f-450c-d6f4-0e41a253e84f"
      },
      "execution_count": null,
      "outputs": [
        {
          "output_type": "execute_result",
          "data": {
            "text/plain": [
              "   Unnamed: 0     video_id                                            title  \\\n",
              "0       56374  WMweEpGlu_U                 BTS (방탄소년단) 'Butter' Official MV   \n",
              "1        3358  gdZLi9oWNZg               BTS (방탄소년단) 'Dynamite' Official MV   \n",
              "2        4980  vRXZj0DzXIA  BLACKPINK - 'Ice Cream (with Selena Gomez)' M/V   \n",
              "\n",
              "            publishedAt    channelTitle  categoryId         trending_date  \\\n",
              "0  2021-05-21T03:46:13Z     HYBE LABELS          10  2021-05-30T00:00:00Z   \n",
              "1  2020-08-21T03:58:10Z  Big Hit Labels          10  2020-08-28T00:00:00Z   \n",
              "2  2020-08-28T04:00:11Z       BLACKPINK          10  2020-09-05T00:00:00Z   \n",
              "\n",
              "   view_count     likes  dislikes  comment_count  Video_Category  \\\n",
              "0   264407389  16021534    150989        6738537  People & Blogs   \n",
              "1   232649205  15735533    714194        6065230  People & Blogs   \n",
              "2   184778248  11795670    879354        2735997  People & Blogs   \n",
              "\n",
              "   times_in_trending  \n",
              "0                  4  \n",
              "1                  8  \n",
              "2                  9  "
            ],
            "text/html": [
              "\n",
              "  <div id=\"df-430cb7c0-65e7-48f5-9a76-606b092ad00d\">\n",
              "    <div class=\"colab-df-container\">\n",
              "      <div>\n",
              "<style scoped>\n",
              "    .dataframe tbody tr th:only-of-type {\n",
              "        vertical-align: middle;\n",
              "    }\n",
              "\n",
              "    .dataframe tbody tr th {\n",
              "        vertical-align: top;\n",
              "    }\n",
              "\n",
              "    .dataframe thead th {\n",
              "        text-align: right;\n",
              "    }\n",
              "</style>\n",
              "<table border=\"1\" class=\"dataframe\">\n",
              "  <thead>\n",
              "    <tr style=\"text-align: right;\">\n",
              "      <th></th>\n",
              "      <th>Unnamed: 0</th>\n",
              "      <th>video_id</th>\n",
              "      <th>title</th>\n",
              "      <th>publishedAt</th>\n",
              "      <th>channelTitle</th>\n",
              "      <th>categoryId</th>\n",
              "      <th>trending_date</th>\n",
              "      <th>view_count</th>\n",
              "      <th>likes</th>\n",
              "      <th>dislikes</th>\n",
              "      <th>comment_count</th>\n",
              "      <th>Video_Category</th>\n",
              "      <th>times_in_trending</th>\n",
              "    </tr>\n",
              "  </thead>\n",
              "  <tbody>\n",
              "    <tr>\n",
              "      <th>0</th>\n",
              "      <td>56374</td>\n",
              "      <td>WMweEpGlu_U</td>\n",
              "      <td>BTS (방탄소년단) 'Butter' Official MV</td>\n",
              "      <td>2021-05-21T03:46:13Z</td>\n",
              "      <td>HYBE LABELS</td>\n",
              "      <td>10</td>\n",
              "      <td>2021-05-30T00:00:00Z</td>\n",
              "      <td>264407389</td>\n",
              "      <td>16021534</td>\n",
              "      <td>150989</td>\n",
              "      <td>6738537</td>\n",
              "      <td>People &amp; Blogs</td>\n",
              "      <td>4</td>\n",
              "    </tr>\n",
              "    <tr>\n",
              "      <th>1</th>\n",
              "      <td>3358</td>\n",
              "      <td>gdZLi9oWNZg</td>\n",
              "      <td>BTS (방탄소년단) 'Dynamite' Official MV</td>\n",
              "      <td>2020-08-21T03:58:10Z</td>\n",
              "      <td>Big Hit Labels</td>\n",
              "      <td>10</td>\n",
              "      <td>2020-08-28T00:00:00Z</td>\n",
              "      <td>232649205</td>\n",
              "      <td>15735533</td>\n",
              "      <td>714194</td>\n",
              "      <td>6065230</td>\n",
              "      <td>People &amp; Blogs</td>\n",
              "      <td>8</td>\n",
              "    </tr>\n",
              "    <tr>\n",
              "      <th>2</th>\n",
              "      <td>4980</td>\n",
              "      <td>vRXZj0DzXIA</td>\n",
              "      <td>BLACKPINK - 'Ice Cream (with Selena Gomez)' M/V</td>\n",
              "      <td>2020-08-28T04:00:11Z</td>\n",
              "      <td>BLACKPINK</td>\n",
              "      <td>10</td>\n",
              "      <td>2020-09-05T00:00:00Z</td>\n",
              "      <td>184778248</td>\n",
              "      <td>11795670</td>\n",
              "      <td>879354</td>\n",
              "      <td>2735997</td>\n",
              "      <td>People &amp; Blogs</td>\n",
              "      <td>9</td>\n",
              "    </tr>\n",
              "  </tbody>\n",
              "</table>\n",
              "</div>\n",
              "      <button class=\"colab-df-convert\" onclick=\"convertToInteractive('df-430cb7c0-65e7-48f5-9a76-606b092ad00d')\"\n",
              "              title=\"Convert this dataframe to an interactive table.\"\n",
              "              style=\"display:none;\">\n",
              "        \n",
              "  <svg xmlns=\"http://www.w3.org/2000/svg\" height=\"24px\"viewBox=\"0 0 24 24\"\n",
              "       width=\"24px\">\n",
              "    <path d=\"M0 0h24v24H0V0z\" fill=\"none\"/>\n",
              "    <path d=\"M18.56 5.44l.94 2.06.94-2.06 2.06-.94-2.06-.94-.94-2.06-.94 2.06-2.06.94zm-11 1L8.5 8.5l.94-2.06 2.06-.94-2.06-.94L8.5 2.5l-.94 2.06-2.06.94zm10 10l.94 2.06.94-2.06 2.06-.94-2.06-.94-.94-2.06-.94 2.06-2.06.94z\"/><path d=\"M17.41 7.96l-1.37-1.37c-.4-.4-.92-.59-1.43-.59-.52 0-1.04.2-1.43.59L10.3 9.45l-7.72 7.72c-.78.78-.78 2.05 0 2.83L4 21.41c.39.39.9.59 1.41.59.51 0 1.02-.2 1.41-.59l7.78-7.78 2.81-2.81c.8-.78.8-2.07 0-2.86zM5.41 20L4 18.59l7.72-7.72 1.47 1.35L5.41 20z\"/>\n",
              "  </svg>\n",
              "      </button>\n",
              "      \n",
              "  <style>\n",
              "    .colab-df-container {\n",
              "      display:flex;\n",
              "      flex-wrap:wrap;\n",
              "      gap: 12px;\n",
              "    }\n",
              "\n",
              "    .colab-df-convert {\n",
              "      background-color: #E8F0FE;\n",
              "      border: none;\n",
              "      border-radius: 50%;\n",
              "      cursor: pointer;\n",
              "      display: none;\n",
              "      fill: #1967D2;\n",
              "      height: 32px;\n",
              "      padding: 0 0 0 0;\n",
              "      width: 32px;\n",
              "    }\n",
              "\n",
              "    .colab-df-convert:hover {\n",
              "      background-color: #E2EBFA;\n",
              "      box-shadow: 0px 1px 2px rgba(60, 64, 67, 0.3), 0px 1px 3px 1px rgba(60, 64, 67, 0.15);\n",
              "      fill: #174EA6;\n",
              "    }\n",
              "\n",
              "    [theme=dark] .colab-df-convert {\n",
              "      background-color: #3B4455;\n",
              "      fill: #D2E3FC;\n",
              "    }\n",
              "\n",
              "    [theme=dark] .colab-df-convert:hover {\n",
              "      background-color: #434B5C;\n",
              "      box-shadow: 0px 1px 3px 1px rgba(0, 0, 0, 0.15);\n",
              "      filter: drop-shadow(0px 1px 2px rgba(0, 0, 0, 0.3));\n",
              "      fill: #FFFFFF;\n",
              "    }\n",
              "  </style>\n",
              "\n",
              "      <script>\n",
              "        const buttonEl =\n",
              "          document.querySelector('#df-430cb7c0-65e7-48f5-9a76-606b092ad00d button.colab-df-convert');\n",
              "        buttonEl.style.display =\n",
              "          google.colab.kernel.accessAllowed ? 'block' : 'none';\n",
              "\n",
              "        async function convertToInteractive(key) {\n",
              "          const element = document.querySelector('#df-430cb7c0-65e7-48f5-9a76-606b092ad00d');\n",
              "          const dataTable =\n",
              "            await google.colab.kernel.invokeFunction('convertToInteractive',\n",
              "                                                     [key], {});\n",
              "          if (!dataTable) return;\n",
              "\n",
              "          const docLinkHtml = 'Like what you see? Visit the ' +\n",
              "            '<a target=\"_blank\" href=https://colab.research.google.com/notebooks/data_table.ipynb>data table notebook</a>'\n",
              "            + ' to learn more about interactive tables.';\n",
              "          element.innerHTML = '';\n",
              "          dataTable['output_type'] = 'display_data';\n",
              "          await google.colab.output.renderOutput(dataTable, element);\n",
              "          const docLink = document.createElement('div');\n",
              "          docLink.innerHTML = docLinkHtml;\n",
              "          element.appendChild(docLink);\n",
              "        }\n",
              "      </script>\n",
              "    </div>\n",
              "  </div>\n",
              "  "
            ]
          },
          "metadata": {},
          "execution_count": 23
        }
      ]
    },
    {
      "cell_type": "code",
      "source": [
        "youtube_final.plot.scatter(x='likes', y='dislikes')"
      ],
      "metadata": {
        "colab": {
          "base_uri": "https://localhost:8080/",
          "height": 297
        },
        "id": "u434IsdsWche",
        "outputId": "c5377bb5-f8c2-40c3-d9ff-763df4fd0e8e"
      },
      "execution_count": null,
      "outputs": [
        {
          "output_type": "execute_result",
          "data": {
            "text/plain": [
              "<matplotlib.axes._subplots.AxesSubplot at 0x7f4d284a8890>"
            ]
          },
          "metadata": {},
          "execution_count": 25
        },
        {
          "output_type": "display_data",
          "data": {
            "text/plain": [
              "<Figure size 432x288 with 1 Axes>"
            ],
            "image/png": "[encoded data removed]"
          },
          "metadata": {
            "needs_background": "light"
          }
        }
      ]
    },
    {
      "cell_type": "code",
      "source": [
        "youtube_final.plot.scatter(x='comment_count', y='view_count')\n",
        "# It shows a positive linear relationship between comments count and views count"
      ],
      "metadata": {
        "colab": {
          "base_uri": "https://localhost:8080/",
          "height": 309
        },
        "id": "5bwrzZVGwWIx",
        "outputId": "24e7ea25-ba75-4772-86f3-54aaf2b497d1"
      },
      "execution_count": null,
      "outputs": [
        {
          "output_type": "execute_result",
          "data": {
            "text/plain": [
              "<matplotlib.axes._subplots.AxesSubplot at 0x7f4d28509fd0>"
            ]
          },
          "metadata": {},
          "execution_count": 26
        },
        {
          "output_type": "display_data",
          "data": {
            "text/plain": [
              "<Figure size 432x288 with 1 Axes>"
            ],
            "image/png": "[encoded data removed]"
          },
          "metadata": {
            "needs_background": "light"
          }
        }
      ]
    },
    {
      "cell_type": "code",
      "source": [
        "youtube_final.corr()\n",
        "# We can see how each variables are positively correlated to each other"
      ],
      "metadata": {
        "colab": {
          "base_uri": "https://localhost:8080/",
          "height": 269
        },
        "id": "UMFe6NJKzz-v",
        "outputId": "e98e90dd-b517-471d-f505-4048dc59c45f"
      },
      "execution_count": null,
      "outputs": [
        {
          "output_type": "execute_result",
          "data": {
            "text/plain": [
              "                   Unnamed: 0  categoryId  view_count     likes  dislikes  \\\n",
              "Unnamed: 0           1.000000    0.038128    0.036219  0.009530 -0.019039   \n",
              "categoryId           0.038128    1.000000   -0.080174 -0.095208 -0.040833   \n",
              "view_count           0.036219   -0.080174    1.000000  0.858134  0.707721   \n",
              "likes                0.009530   -0.095208    0.858134  1.000000  0.677106   \n",
              "dislikes            -0.019039   -0.040833    0.707721  0.677106  1.000000   \n",
              "comment_count       -0.009607   -0.058228    0.642583  0.760582  0.543899   \n",
              "times_in_trending    0.259695    0.005689    0.181586  0.137529  0.107069   \n",
              "\n",
              "                   comment_count  times_in_trending  \n",
              "Unnamed: 0             -0.009607           0.259695  \n",
              "categoryId             -0.058228           0.005689  \n",
              "view_count              0.642583           0.181586  \n",
              "likes                   0.760582           0.137529  \n",
              "dislikes                0.543899           0.107069  \n",
              "comment_count           1.000000           0.050135  \n",
              "times_in_trending       0.050135           1.000000  "
            ],
            "text/html": [
              "\n",
              "  <div id=\"df-c5dde37a-1505-4309-b563-5e1878fad381\">\n",
              "    <div class=\"colab-df-container\">\n",
              "      <div>\n",
              "<style scoped>\n",
              "    .dataframe tbody tr th:only-of-type {\n",
              "        vertical-align: middle;\n",
              "    }\n",
              "\n",
              "    .dataframe tbody tr th {\n",
              "        vertical-align: top;\n",
              "    }\n",
              "\n",
              "    .dataframe thead th {\n",
              "        text-align: right;\n",
              "    }\n",
              "</style>\n",
              "<table border=\"1\" class=\"dataframe\">\n",
              "  <thead>\n",
              "    <tr style=\"text-align: right;\">\n",
              "      <th></th>\n",
              "      <th>Unnamed: 0</th>\n",
              "      <th>categoryId</th>\n",
              "      <th>view_count</th>\n",
              "      <th>likes</th>\n",
              "      <th>dislikes</th>\n",
              "      <th>comment_count</th>\n",
              "      <th>times_in_trending</th>\n",
              "    </tr>\n",
              "  </thead>\n",
              "  <tbody>\n",
              "    <tr>\n",
              "      <th>Unnamed: 0</th>\n",
              "      <td>1.000000</td>\n",
              "      <td>0.038128</td>\n",
              "      <td>0.036219</td>\n",
              "      <td>0.009530</td>\n",
              "      <td>-0.019039</td>\n",
              "      <td>-0.009607</td>\n",
              "      <td>0.259695</td>\n",
              "    </tr>\n",
              "    <tr>\n",
              "      <th>categoryId</th>\n",
              "      <td>0.038128</td>\n",
              "      <td>1.000000</td>\n",
              "      <td>-0.080174</td>\n",
              "      <td>-0.095208</td>\n",
              "      <td>-0.040833</td>\n",
              "      <td>-0.058228</td>\n",
              "      <td>0.005689</td>\n",
              "    </tr>\n",
              "    <tr>\n",
              "      <th>view_count</th>\n",
              "      <td>0.036219</td>\n",
              "      <td>-0.080174</td>\n",
              "      <td>1.000000</td>\n",
              "      <td>0.858134</td>\n",
              "      <td>0.707721</td>\n",
              "      <td>0.642583</td>\n",
              "      <td>0.181586</td>\n",
              "    </tr>\n",
              "    <tr>\n",
              "      <th>likes</th>\n",
              "      <td>0.009530</td>\n",
              "      <td>-0.095208</td>\n",
              "      <td>0.858134</td>\n",
              "      <td>1.000000</td>\n",
              "      <td>0.677106</td>\n",
              "      <td>0.760582</td>\n",
              "      <td>0.137529</td>\n",
              "    </tr>\n",
              "    <tr>\n",
              "      <th>dislikes</th>\n",
              "      <td>-0.019039</td>\n",
              "      <td>-0.040833</td>\n",
              "      <td>0.707721</td>\n",
              "      <td>0.677106</td>\n",
              "      <td>1.000000</td>\n",
              "      <td>0.543899</td>\n",
              "      <td>0.107069</td>\n",
              "    </tr>\n",
              "    <tr>\n",
              "      <th>comment_count</th>\n",
              "      <td>-0.009607</td>\n",
              "      <td>-0.058228</td>\n",
              "      <td>0.642583</td>\n",
              "      <td>0.760582</td>\n",
              "      <td>0.543899</td>\n",
              "      <td>1.000000</td>\n",
              "      <td>0.050135</td>\n",
              "    </tr>\n",
              "    <tr>\n",
              "      <th>times_in_trending</th>\n",
              "      <td>0.259695</td>\n",
              "      <td>0.005689</td>\n",
              "      <td>0.181586</td>\n",
              "      <td>0.137529</td>\n",
              "      <td>0.107069</td>\n",
              "      <td>0.050135</td>\n",
              "      <td>1.000000</td>\n",
              "    </tr>\n",
              "  </tbody>\n",
              "</table>\n",
              "</div>\n",
              "      <button class=\"colab-df-convert\" onclick=\"convertToInteractive('df-c5dde37a-1505-4309-b563-5e1878fad381')\"\n",
              "              title=\"Convert this dataframe to an interactive table.\"\n",
              "              style=\"display:none;\">\n",
              "        \n",
              "  <svg xmlns=\"http://www.w3.org/2000/svg\" height=\"24px\"viewBox=\"0 0 24 24\"\n",
              "       width=\"24px\">\n",
              "    <path d=\"M0 0h24v24H0V0z\" fill=\"none\"/>\n",
              "    <path d=\"M18.56 5.44l.94 2.06.94-2.06 2.06-.94-2.06-.94-.94-2.06-.94 2.06-2.06.94zm-11 1L8.5 8.5l.94-2.06 2.06-.94-2.06-.94L8.5 2.5l-.94 2.06-2.06.94zm10 10l.94 2.06.94-2.06 2.06-.94-2.06-.94-.94-2.06-.94 2.06-2.06.94z\"/><path d=\"M17.41 7.96l-1.37-1.37c-.4-.4-.92-.59-1.43-.59-.52 0-1.04.2-1.43.59L10.3 9.45l-7.72 7.72c-.78.78-.78 2.05 0 2.83L4 21.41c.39.39.9.59 1.41.59.51 0 1.02-.2 1.41-.59l7.78-7.78 2.81-2.81c.8-.78.8-2.07 0-2.86zM5.41 20L4 18.59l7.72-7.72 1.47 1.35L5.41 20z\"/>\n",
              "  </svg>\n",
              "      </button>\n",
              "      \n",
              "  <style>\n",
              "    .colab-df-container {\n",
              "      display:flex;\n",
              "      flex-wrap:wrap;\n",
              "      gap: 12px;\n",
              "    }\n",
              "\n",
              "    .colab-df-convert {\n",
              "      background-color: #E8F0FE;\n",
              "      border: none;\n",
              "      border-radius: 50%;\n",
              "      cursor: pointer;\n",
              "      display: none;\n",
              "      fill: #1967D2;\n",
              "      height: 32px;\n",
              "      padding: 0 0 0 0;\n",
              "      width: 32px;\n",
              "    }\n",
              "\n",
              "    .colab-df-convert:hover {\n",
              "      background-color: #E2EBFA;\n",
              "      box-shadow: 0px 1px 2px rgba(60, 64, 67, 0.3), 0px 1px 3px 1px rgba(60, 64, 67, 0.15);\n",
              "      fill: #174EA6;\n",
              "    }\n",
              "\n",
              "    [theme=dark] .colab-df-convert {\n",
              "      background-color: #3B4455;\n",
              "      fill: #D2E3FC;\n",
              "    }\n",
              "\n",
              "    [theme=dark] .colab-df-convert:hover {\n",
              "      background-color: #434B5C;\n",
              "      box-shadow: 0px 1px 3px 1px rgba(0, 0, 0, 0.15);\n",
              "      filter: drop-shadow(0px 1px 2px rgba(0, 0, 0, 0.3));\n",
              "      fill: #FFFFFF;\n",
              "    }\n",
              "  </style>\n",
              "\n",
              "      <script>\n",
              "        const buttonEl =\n",
              "          document.querySelector('#df-c5dde37a-1505-4309-b563-5e1878fad381 button.colab-df-convert');\n",
              "        buttonEl.style.display =\n",
              "          google.colab.kernel.accessAllowed ? 'block' : 'none';\n",
              "\n",
              "        async function convertToInteractive(key) {\n",
              "          const element = document.querySelector('#df-c5dde37a-1505-4309-b563-5e1878fad381');\n",
              "          const dataTable =\n",
              "            await google.colab.kernel.invokeFunction('convertToInteractive',\n",
              "                                                     [key], {});\n",
              "          if (!dataTable) return;\n",
              "\n",
              "          const docLinkHtml = 'Like what you see? Visit the ' +\n",
              "            '<a target=\"_blank\" href=https://colab.research.google.com/notebooks/data_table.ipynb>data table notebook</a>'\n",
              "            + ' to learn more about interactive tables.';\n",
              "          element.innerHTML = '';\n",
              "          dataTable['output_type'] = 'display_data';\n",
              "          await google.colab.output.renderOutput(dataTable, element);\n",
              "          const docLink = document.createElement('div');\n",
              "          docLink.innerHTML = docLinkHtml;\n",
              "          element.appendChild(docLink);\n",
              "        }\n",
              "      </script>\n",
              "    </div>\n",
              "  </div>\n",
              "  "
            ]
          },
          "metadata": {},
          "execution_count": 35
        }
      ]
    },
    {
      "cell_type": "code",
      "source": [
        "linreg3 = smf.ols('times_in_trending ~ likes + dislikes + comment_count + view_count', youtube_final).fit()\n",
        "print(linreg3.summary())\n",
        "# We can see that the p value at 95% confidence interval is more than 0.05 for likes, \n",
        "# hence it means these likes can't decide whether the times it will be trending will be more or not.\n",
        "# after removing Likes variable, we will see how dislikes p value is more than 0.05 hence we also rejected it"
      ],
      "metadata": {
        "colab": {
          "base_uri": "https://localhost:8080/"
        },
        "id": "tVqBzrtKVzBl",
        "outputId": "c5fd3572-13a0-4c2d-f013-fbf3f71687f4"
      },
      "execution_count": null,
      "outputs": [
        {
          "output_type": "stream",
          "name": "stdout",
          "text": [
            "                            OLS Regression Results                            \n",
            "==============================================================================\n",
            "Dep. Variable:      times_in_trending   R-squared:                       0.041\n",
            "Model:                            OLS   Adj. R-squared:                  0.041\n",
            "Method:                 Least Squares   F-statistic:                     119.5\n",
            "Date:                Sat, 23 Apr 2022   Prob (F-statistic):          5.60e-100\n",
            "Time:                        21:35:20   Log-Likelihood:                -24531.\n",
            "No. Observations:               11184   AIC:                         4.907e+04\n",
            "Df Residuals:                   11179   BIC:                         4.911e+04\n",
            "Df Model:                           4                                         \n",
            "Covariance Type:            nonrobust                                         \n",
            "=================================================================================\n",
            "                    coef    std err          t      P>|t|      [0.025      0.975]\n",
            "---------------------------------------------------------------------------------\n",
            "Intercept         5.7855      0.023    255.674      0.000       5.741       5.830\n",
            "likes          1.716e-07   1.09e-07      1.577      0.115   -4.17e-08    3.85e-07\n",
            "dislikes      -3.717e-06   1.92e-06     -1.941      0.052   -7.47e-06    3.67e-08\n",
            "comment_count -2.299e-06   2.71e-07     -8.487      0.000   -2.83e-06   -1.77e-06\n",
            "view_count     7.134e-08   5.49e-09     12.985      0.000    6.06e-08    8.21e-08\n",
            "==============================================================================\n",
            "Omnibus:                     3263.534   Durbin-Watson:                   1.883\n",
            "Prob(Omnibus):                  0.000   Jarque-Bera (JB):            34210.791\n",
            "Skew:                           1.096   Prob(JB):                         0.00\n",
            "Kurtosis:                      11.283   Cond. No.                     9.23e+06\n",
            "==============================================================================\n",
            "\n",
            "Warnings:\n",
            "[1] Standard Errors assume that the covariance matrix of the errors is correctly specified.\n",
            "[2] The condition number is large, 9.23e+06. This might indicate that there are\n",
            "strong multicollinearity or other numerical problems.\n"
          ]
        }
      ]
    },
    {
      "cell_type": "code",
      "source": [
        "linreg3_1 = smf.ols('times_in_trending ~  comment_count + view_count', youtube_final).fit()\n",
        "print(linreg3_1.summary())\n",
        "# Formula -> view_count = (-2.145e-06)*comment_count + (7.29e-08)*view_count + 5.7914\n",
        "\n",
        "# It shows the inverse relationship between Comments and no of times it was trending"
      ],
      "metadata": {
        "colab": {
          "base_uri": "https://localhost:8080/"
        },
        "id": "IU335qe2AdqD",
        "outputId": "3a4b6fe0-afef-4b14-dedc-09395869020e"
      },
      "execution_count": null,
      "outputs": [
        {
          "output_type": "stream",
          "name": "stdout",
          "text": [
            "                            OLS Regression Results                            \n",
            "==============================================================================\n",
            "Dep. Variable:      times_in_trending   R-squared:                       0.041\n",
            "Model:                            OLS   Adj. R-squared:                  0.040\n",
            "Method:                 Least Squares   F-statistic:                     236.1\n",
            "Date:                Sun, 24 Apr 2022   Prob (F-statistic):          3.79e-101\n",
            "Time:                        00:41:25   Log-Likelihood:                -24534.\n",
            "No. Observations:               11184   AIC:                         4.907e+04\n",
            "Df Residuals:                   11181   BIC:                         4.910e+04\n",
            "Df Model:                           2                                         \n",
            "Covariance Type:            nonrobust                                         \n",
            "=================================================================================\n",
            "                    coef    std err          t      P>|t|      [0.025      0.975]\n",
            "---------------------------------------------------------------------------------\n",
            "Intercept         5.7914      0.022    257.784      0.000       5.747       5.835\n",
            "comment_count -2.145e-06   2.29e-07     -9.376      0.000   -2.59e-06    -1.7e-06\n",
            "view_count      7.29e-08   3.46e-09     21.044      0.000    6.61e-08    7.97e-08\n",
            "==============================================================================\n",
            "Omnibus:                     3242.615   Durbin-Watson:                   1.880\n",
            "Prob(Omnibus):                  0.000   Jarque-Bera (JB):            33632.063\n",
            "Skew:                           1.090   Prob(JB):                         0.00\n",
            "Kurtosis:                      11.211   Cond. No.                     9.15e+06\n",
            "==============================================================================\n",
            "\n",
            "Warnings:\n",
            "[1] Standard Errors assume that the covariance matrix of the errors is correctly specified.\n",
            "[2] The condition number is large, 9.15e+06. This might indicate that there are\n",
            "strong multicollinearity or other numerical problems.\n"
          ]
        }
      ]
    },
    {
      "cell_type": "code",
      "source": [
        ""
      ],
      "metadata": {
        "id": "FGtyMhvlxIdB"
      },
      "execution_count": null,
      "outputs": []
    }
  ]
}